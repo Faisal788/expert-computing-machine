{
  "nbformat": 4,
  "nbformat_minor": 0,
  "metadata": {
    "colab": {
      "provenance": [],
      "collapsed_sections": [],
      "toc_visible": true
    },
    "kernelspec": {
      "name": "python3",
      "display_name": "Python 3"
    },
    "language_info": {
      "name": "python"
    }
  },
  "cells": [
    {
      "cell_type": "code",
      "source": [
        "from google.colab import drive\n",
        "drive.mount('/content/drive')"
      ],
      "metadata": {
        "id": "N5eZvfhpF0tQ"
      },
      "execution_count": null,
      "outputs": []
    },
    {
      "cell_type": "code",
      "execution_count": 3,
      "metadata": {
        "colab": {
          "base_uri": "https://localhost:8080/",
          "height": 130
        },
        "id": "XR122AAcB9Kn",
        "outputId": "39220007-1ca6-46bd-eddd-a4156fafc76f"
      },
      "outputs": [
        {
          "output_type": "error",
          "ename": "SyntaxError",
          "evalue": "ignored",
          "traceback": [
            "\u001b[0;36m  File \u001b[0;32m\"<ipython-input-3-2bdfdb10d4f0>\"\u001b[0;36m, line \u001b[0;32m44\u001b[0m\n\u001b[0;31m    print (\"The optimal value is :\", minimax(0, 0, True, values, MIN, MAX))4\u001b[0m\n\u001b[0m                                                                           ^\u001b[0m\n\u001b[0;31mSyntaxError\u001b[0m\u001b[0;31m:\u001b[0m invalid syntax\n"
          ]
        }
      ],
      "source": [
        "MAX, MIN = 1000, -1000 \n",
        "def minimax(depth, nodeIndex, maximizingPlayer, \n",
        "\t\t\tvalues, alpha, beta): \n",
        "\n",
        "\tif depth == 3: \n",
        "\t\treturn values[nodeIndex] \n",
        "\n",
        "\tif maximizingPlayer: \n",
        "\t\n",
        "\t\tbest = MIN\n",
        "\n",
        "\t\tfor i in range(0, 2): \n",
        "\t\t\t\n",
        "\t\t\tval = minimax(depth + 1, nodeIndex * 2 + i, \n",
        "\t\t\t\t\t\tFalse, values, alpha, beta) \n",
        "\t\t\tbest = max(best, val) \n",
        "\t\t\talpha = max(alpha, best) \n",
        "\n",
        "\t\t\tif beta <= alpha: \n",
        "\t\t\t\tbreak\n",
        "\t\t\n",
        "\t\treturn best \n",
        "\t\n",
        "\telse: \n",
        "\t\tbest = MAX\n",
        "\t\tfor i in range(0, 2): \n",
        "\t\t\n",
        "\t\t\tval = minimax(depth + 1, nodeIndex * 2 + i, \n",
        "\t\t\t\t\t\t\tTrue, values, alpha, beta) \n",
        "\t\t\tbest = min(best, val) \n",
        "\t\t\tbeta = min(beta, best) \n",
        "\t\t\tif beta <= alpha: \n",
        "\t\t\t\tbreak\n",
        "\t\t\n",
        "\t\treturn best \n",
        "\t\n",
        "if __name__== \"__main__\": \n",
        "    values = []\n",
        "    for i in range(0, 8):\n",
        "\n",
        "        x = int(input(f\"Enter Value {i}  : \"))\n",
        "        values.append(x)\n",
        "\n",
        "    print (\"The optimal value is :\", minimax(0, 0, True, values, MIN, MAX))4"
      ]
    }
  ]
}